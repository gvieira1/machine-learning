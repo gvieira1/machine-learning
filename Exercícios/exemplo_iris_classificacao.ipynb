{
 "cells": [
  {
   "cell_type": "code",
   "execution_count": 2,
   "id": "cfe7d67a",
   "metadata": {},
   "outputs": [],
   "source": [
    "import numpy as np\n",
    "import pandas as pd\n",
    "from sklearn.model_selection import train_test_split\n",
    "from sklearn.metrics import accuracy_score, precision_score, recall_score, f1_score, confusion_matrix, classification_report\n",
    "from sklearn import datasets, svm\n",
    "from sklearn.tree import DecisionTreeClassifier\n",
    "from sklearn.naive_bayes import GaussianNB"
   ]
  },
  {
   "cell_type": "code",
   "execution_count": 3,
   "id": "abf77ffb",
   "metadata": {},
   "outputs": [],
   "source": [
    "iris = datasets.load_iris()\n",
    "X = iris.data\n",
    "y = iris.target"
   ]
  },
  {
   "cell_type": "code",
   "execution_count": 6,
   "id": "ad612f9e",
   "metadata": {},
   "outputs": [],
   "source": [
    "X_train, X_test, y_train, y_test = train_test_split(X, y, test_size=0.3, random_state=1)"
   ]
  },
  {
   "cell_type": "code",
   "execution_count": 7,
   "id": "285f37e4",
   "metadata": {},
   "outputs": [],
   "source": [
    "#Gaussian Naive Bayes\n",
    "gnb = GaussianNB()\n",
    "gnb.fit(X_train, y_train)\n",
    "gnb_pred = gnb.predict(X_test)"
   ]
  },
  {
   "cell_type": "code",
   "execution_count": 10,
   "id": "e15393c2",
   "metadata": {},
   "outputs": [
    {
     "name": "stdout",
     "output_type": "stream",
     "text": [
      "Acurácia do Naive Bayes:  0.9333333333333333\n",
      "Precisão do Naive Bayes:  0.9352007469654529\n",
      "Recall do Naive Bayes:  0.9333333333333333\n",
      "F1-Score do Naive Bayes:  0.933615520282187\n",
      "---------------------------\n",
      "              precision    recall  f1-score   support\n",
      "\n",
      "           0       1.00      1.00      1.00        14\n",
      "           1       0.94      0.89      0.91        18\n",
      "           2       0.86      0.92      0.89        13\n",
      "\n",
      "    accuracy                           0.93        45\n",
      "   macro avg       0.93      0.94      0.93        45\n",
      "weighted avg       0.94      0.93      0.93        45\n",
      "\n",
      "---------------------------\n",
      "[[14  0  0]\n",
      " [ 0 16  2]\n",
      " [ 0  1 12]]\n"
     ]
    }
   ],
   "source": [
    "print(\"Acurácia do Naive Bayes: \", accuracy_score(y_test, gnb_pred))\n",
    "print(\"Precisão do Naive Bayes: \", precision_score(y_test, gnb_pred, average='weighted'))\n",
    "print(\"Recall do Naive Bayes: \", recall_score(y_test, gnb_pred, average='weighted'))\n",
    "print(\"F1-Score do Naive Bayes: \", f1_score(y_test, gnb_pred, average='weighted'))\n",
    "print(\"---------------------------\")\n",
    "print(classification_report(y_test, gnb_pred))\n",
    "print(\"---------------------------\")\n",
    "print(confusion_matrix(y_test, gnb_pred))"
   ]
  },
  {
   "cell_type": "code",
   "execution_count": 15,
   "id": "fa09ca54",
   "metadata": {},
   "outputs": [],
   "source": [
    "#Decision Tree Classifier\n",
    "dt = DecisionTreeClassifier(random_state=0)\n",
    "dt.fit(X_train, y_train)\n",
    "dt_pred = dt.predict(X_test)"
   ]
  },
  {
   "cell_type": "code",
   "execution_count": 16,
   "id": "ac0b41f3",
   "metadata": {},
   "outputs": [
    {
     "name": "stdout",
     "output_type": "stream",
     "text": [
      "Accuracy of Decision Tree Classifier:  0.9555555555555556\n",
      "Precision of Decision Tree Classifier:  0.9555555555555556\n",
      "Recall of Decision Tree Classifier:  0.9555555555555556\n",
      "F1-Score of Decision Tree Classifier:  0.9555555555555556\n",
      "--------------------------------------------\n",
      "              precision    recall  f1-score   support\n",
      "\n",
      "           0       1.00      1.00      1.00        14\n",
      "           1       0.94      0.94      0.94        18\n",
      "           2       0.92      0.92      0.92        13\n",
      "\n",
      "    accuracy                           0.96        45\n",
      "   macro avg       0.96      0.96      0.96        45\n",
      "weighted avg       0.96      0.96      0.96        45\n",
      "\n",
      "--------------------------------------------\n",
      "[[14  0  0]\n",
      " [ 0 17  1]\n",
      " [ 0  1 12]]\n"
     ]
    }
   ],
   "source": [
    "print(\"Accuracy of Decision Tree Classifier: \", accuracy_score(y_test, dt_pred))\n",
    "print(\"Precision of Decision Tree Classifier: \", precision_score(y_test, dt_pred, average='weighted'))\n",
    "print(\"Recall of Decision Tree Classifier: \", recall_score(y_test, dt_pred, average='weighted'))\n",
    "print(\"F1-Score of Decision Tree Classifier: \", f1_score(y_test, dt_pred, average='weighted'))\n",
    "print(\"--------------------------------------------\")\n",
    "print(classification_report(y_test, dt_pred))\n",
    "print(\"--------------------------------------------\")\n",
    "print(confusion_matrix(y_test, dt_pred))"
   ]
  },
  {
   "cell_type": "code",
   "execution_count": 22,
   "id": "eda74691",
   "metadata": {},
   "outputs": [],
   "source": [
    "#Support Vector Machine c/ kernel linear\n",
    "svm_clf = svm.SVC(kernel='linear')\n",
    "svm_clf.fit(X_train, y_train)\n",
    "svm_clf_pred = svm_clf.predict(X_test)"
   ]
  },
  {
   "cell_type": "code",
   "execution_count": 23,
   "id": "82c6954f",
   "metadata": {},
   "outputs": [
    {
     "name": "stdout",
     "output_type": "stream",
     "text": [
      "Accuracy of SVM:  1.0\n",
      "Precision of SVM:  1.0\n",
      "Recall of SVM:  1.0\n",
      "F1-Score of SVM:  1.0\n",
      "--------------------------------------------\n",
      "              precision    recall  f1-score   support\n",
      "\n",
      "           0       1.00      1.00      1.00        14\n",
      "           1       1.00      1.00      1.00        18\n",
      "           2       1.00      1.00      1.00        13\n",
      "\n",
      "    accuracy                           1.00        45\n",
      "   macro avg       1.00      1.00      1.00        45\n",
      "weighted avg       1.00      1.00      1.00        45\n",
      "\n",
      "--------------------------------------------\n",
      "[[14  0  0]\n",
      " [ 0 18  0]\n",
      " [ 0  0 13]]\n"
     ]
    }
   ],
   "source": [
    "print(\"Accuracy of SVM: \", accuracy_score(y_test, svm_clf_pred))\n",
    "print(\"Precision of SVM: \", precision_score(y_test, svm_clf_pred, average='weighted'))\n",
    "print(\"Recall of SVM: \", recall_score(y_test, svm_clf_pred, average='weighted'))\n",
    "print(\"F1-Score of SVM: \", f1_score(y_test, svm_clf_pred, average='weighted'))\n",
    "print(\"--------------------------------------------\")\n",
    "print(classification_report(y_test, svm_clf_pred))\n",
    "print(\"--------------------------------------------\")\n",
    "print(confusion_matrix(y_test, svm_clf_pred))"
   ]
  },
  {
   "cell_type": "code",
   "execution_count": null,
   "id": "ac719f7e",
   "metadata": {},
   "outputs": [],
   "source": []
  }
 ],
 "metadata": {
  "kernelspec": {
   "display_name": "Python 3 (ipykernel)",
   "language": "python",
   "name": "python3"
  },
  "language_info": {
   "codemirror_mode": {
    "name": "ipython",
    "version": 3
   },
   "file_extension": ".py",
   "mimetype": "text/x-python",
   "name": "python",
   "nbconvert_exporter": "python",
   "pygments_lexer": "ipython3",
   "version": "3.10.12"
  }
 },
 "nbformat": 4,
 "nbformat_minor": 5
}
