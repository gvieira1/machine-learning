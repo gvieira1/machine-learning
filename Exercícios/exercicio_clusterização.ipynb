{
 "cells": [
  {
   "cell_type": "code",
   "execution_count": 361,
   "id": "80cc0dbc",
   "metadata": {},
   "outputs": [],
   "source": [
    "import pandas as pd\n",
    "import seaborn as sns\n",
    "import numpy as np\n",
    "import matplotlib.pyplot as plt\n",
    "from sklearn.cluster import KMeans\n",
    "from sklearn.metrics import silhouette_score, homogeneity_score\n",
    "from sklearn.preprocessing import StandardScaler, LabelEncoder\n",
    "from sklearn.model_selection import cross_val_score, train_test_split"
   ]
  },
  {
   "cell_type": "code",
   "execution_count": 239,
   "id": "9c5508dd",
   "metadata": {},
   "outputs": [],
   "source": [
    "dataset = sns.load_dataset('penguins')"
   ]
  },
  {
   "cell_type": "code",
   "execution_count": 240,
   "id": "570c496b",
   "metadata": {},
   "outputs": [
    {
     "data": {
      "text/html": [
       "<div>\n",
       "<style scoped>\n",
       "    .dataframe tbody tr th:only-of-type {\n",
       "        vertical-align: middle;\n",
       "    }\n",
       "\n",
       "    .dataframe tbody tr th {\n",
       "        vertical-align: top;\n",
       "    }\n",
       "\n",
       "    .dataframe thead th {\n",
       "        text-align: right;\n",
       "    }\n",
       "</style>\n",
       "<table border=\"1\" class=\"dataframe\">\n",
       "  <thead>\n",
       "    <tr style=\"text-align: right;\">\n",
       "      <th></th>\n",
       "      <th>species</th>\n",
       "      <th>island</th>\n",
       "      <th>bill_length_mm</th>\n",
       "      <th>bill_depth_mm</th>\n",
       "      <th>flipper_length_mm</th>\n",
       "      <th>body_mass_g</th>\n",
       "      <th>sex</th>\n",
       "    </tr>\n",
       "  </thead>\n",
       "  <tbody>\n",
       "    <tr>\n",
       "      <th>0</th>\n",
       "      <td>Adelie</td>\n",
       "      <td>Torgersen</td>\n",
       "      <td>39.1</td>\n",
       "      <td>18.7</td>\n",
       "      <td>181.0</td>\n",
       "      <td>3750.0</td>\n",
       "      <td>Male</td>\n",
       "    </tr>\n",
       "    <tr>\n",
       "      <th>1</th>\n",
       "      <td>Adelie</td>\n",
       "      <td>Torgersen</td>\n",
       "      <td>39.5</td>\n",
       "      <td>17.4</td>\n",
       "      <td>186.0</td>\n",
       "      <td>3800.0</td>\n",
       "      <td>Female</td>\n",
       "    </tr>\n",
       "    <tr>\n",
       "      <th>2</th>\n",
       "      <td>Adelie</td>\n",
       "      <td>Torgersen</td>\n",
       "      <td>40.3</td>\n",
       "      <td>18.0</td>\n",
       "      <td>195.0</td>\n",
       "      <td>3250.0</td>\n",
       "      <td>Female</td>\n",
       "    </tr>\n",
       "    <tr>\n",
       "      <th>3</th>\n",
       "      <td>Adelie</td>\n",
       "      <td>Torgersen</td>\n",
       "      <td>NaN</td>\n",
       "      <td>NaN</td>\n",
       "      <td>NaN</td>\n",
       "      <td>NaN</td>\n",
       "      <td>NaN</td>\n",
       "    </tr>\n",
       "    <tr>\n",
       "      <th>4</th>\n",
       "      <td>Adelie</td>\n",
       "      <td>Torgersen</td>\n",
       "      <td>36.7</td>\n",
       "      <td>19.3</td>\n",
       "      <td>193.0</td>\n",
       "      <td>3450.0</td>\n",
       "      <td>Female</td>\n",
       "    </tr>\n",
       "  </tbody>\n",
       "</table>\n",
       "</div>"
      ],
      "text/plain": [
       "  species     island  bill_length_mm  bill_depth_mm  flipper_length_mm  \\\n",
       "0  Adelie  Torgersen            39.1           18.7              181.0   \n",
       "1  Adelie  Torgersen            39.5           17.4              186.0   \n",
       "2  Adelie  Torgersen            40.3           18.0              195.0   \n",
       "3  Adelie  Torgersen             NaN            NaN                NaN   \n",
       "4  Adelie  Torgersen            36.7           19.3              193.0   \n",
       "\n",
       "   body_mass_g     sex  \n",
       "0       3750.0    Male  \n",
       "1       3800.0  Female  \n",
       "2       3250.0  Female  \n",
       "3          NaN     NaN  \n",
       "4       3450.0  Female  "
      ]
     },
     "execution_count": 240,
     "metadata": {},
     "output_type": "execute_result"
    }
   ],
   "source": [
    "dataset.head()"
   ]
  },
  {
   "cell_type": "code",
   "execution_count": 241,
   "id": "80b55aea",
   "metadata": {},
   "outputs": [
    {
     "name": "stdout",
     "output_type": "stream",
     "text": [
      "<class 'pandas.core.frame.DataFrame'>\n",
      "RangeIndex: 344 entries, 0 to 343\n",
      "Data columns (total 7 columns):\n",
      " #   Column             Non-Null Count  Dtype  \n",
      "---  ------             --------------  -----  \n",
      " 0   species            344 non-null    object \n",
      " 1   island             344 non-null    object \n",
      " 2   bill_length_mm     342 non-null    float64\n",
      " 3   bill_depth_mm      342 non-null    float64\n",
      " 4   flipper_length_mm  342 non-null    float64\n",
      " 5   body_mass_g        342 non-null    float64\n",
      " 6   sex                333 non-null    object \n",
      "dtypes: float64(4), object(3)\n",
      "memory usage: 18.9+ KB\n"
     ]
    }
   ],
   "source": [
    "dataset.info()"
   ]
  },
  {
   "cell_type": "code",
   "execution_count": 242,
   "id": "a634d257",
   "metadata": {},
   "outputs": [],
   "source": [
    "numerical_columns = dataset.select_dtypes(include=['float64']).columns"
   ]
  },
  {
   "cell_type": "code",
   "execution_count": 243,
   "id": "a30c7aec",
   "metadata": {},
   "outputs": [],
   "source": [
    "scaler = StandardScaler()\n",
    "scaled_data = scaler.fit_transform(dataset[numerical_columns])"
   ]
  },
  {
   "cell_type": "code",
   "execution_count": 244,
   "id": "d4799980",
   "metadata": {},
   "outputs": [],
   "source": [
    "scaled_df = pd.DataFrame(scaled_data, columns=numerical_columns)\n",
    "scaled_df = scaled_df.dropna()"
   ]
  },
  {
   "cell_type": "code",
   "execution_count": 245,
   "id": "f2118ec8",
   "metadata": {},
   "outputs": [
    {
     "data": {
      "text/html": [
       "<div>\n",
       "<style scoped>\n",
       "    .dataframe tbody tr th:only-of-type {\n",
       "        vertical-align: middle;\n",
       "    }\n",
       "\n",
       "    .dataframe tbody tr th {\n",
       "        vertical-align: top;\n",
       "    }\n",
       "\n",
       "    .dataframe thead th {\n",
       "        text-align: right;\n",
       "    }\n",
       "</style>\n",
       "<table border=\"1\" class=\"dataframe\">\n",
       "  <thead>\n",
       "    <tr style=\"text-align: right;\">\n",
       "      <th></th>\n",
       "      <th>bill_length_mm</th>\n",
       "      <th>bill_depth_mm</th>\n",
       "      <th>flipper_length_mm</th>\n",
       "      <th>body_mass_g</th>\n",
       "    </tr>\n",
       "  </thead>\n",
       "  <tbody>\n",
       "    <tr>\n",
       "      <th>0</th>\n",
       "      <td>-0.884499</td>\n",
       "      <td>0.785449</td>\n",
       "      <td>-1.418347</td>\n",
       "      <td>-0.564142</td>\n",
       "    </tr>\n",
       "    <tr>\n",
       "      <th>1</th>\n",
       "      <td>-0.811126</td>\n",
       "      <td>0.126188</td>\n",
       "      <td>-1.062250</td>\n",
       "      <td>-0.501703</td>\n",
       "    </tr>\n",
       "    <tr>\n",
       "      <th>2</th>\n",
       "      <td>-0.664380</td>\n",
       "      <td>0.430462</td>\n",
       "      <td>-0.421277</td>\n",
       "      <td>-1.188532</td>\n",
       "    </tr>\n",
       "    <tr>\n",
       "      <th>4</th>\n",
       "      <td>-1.324737</td>\n",
       "      <td>1.089724</td>\n",
       "      <td>-0.563715</td>\n",
       "      <td>-0.938776</td>\n",
       "    </tr>\n",
       "    <tr>\n",
       "      <th>5</th>\n",
       "      <td>-0.847812</td>\n",
       "      <td>1.748985</td>\n",
       "      <td>-0.777373</td>\n",
       "      <td>-0.689020</td>\n",
       "    </tr>\n",
       "    <tr>\n",
       "      <th>...</th>\n",
       "      <td>...</td>\n",
       "      <td>...</td>\n",
       "      <td>...</td>\n",
       "      <td>...</td>\n",
       "    </tr>\n",
       "    <tr>\n",
       "      <th>338</th>\n",
       "      <td>0.601305</td>\n",
       "      <td>-1.750171</td>\n",
       "      <td>0.931890</td>\n",
       "      <td>0.903175</td>\n",
       "    </tr>\n",
       "    <tr>\n",
       "      <th>340</th>\n",
       "      <td>0.527932</td>\n",
       "      <td>-1.445897</td>\n",
       "      <td>1.003109</td>\n",
       "      <td>0.809516</td>\n",
       "    </tr>\n",
       "    <tr>\n",
       "      <th>341</th>\n",
       "      <td>1.188289</td>\n",
       "      <td>-0.735923</td>\n",
       "      <td>1.501644</td>\n",
       "      <td>1.933419</td>\n",
       "    </tr>\n",
       "    <tr>\n",
       "      <th>342</th>\n",
       "      <td>0.234440</td>\n",
       "      <td>-1.192335</td>\n",
       "      <td>0.789451</td>\n",
       "      <td>1.246590</td>\n",
       "    </tr>\n",
       "    <tr>\n",
       "      <th>343</th>\n",
       "      <td>1.096572</td>\n",
       "      <td>-0.533073</td>\n",
       "      <td>0.860670</td>\n",
       "      <td>1.496346</td>\n",
       "    </tr>\n",
       "  </tbody>\n",
       "</table>\n",
       "<p>342 rows × 4 columns</p>\n",
       "</div>"
      ],
      "text/plain": [
       "     bill_length_mm  bill_depth_mm  flipper_length_mm  body_mass_g\n",
       "0         -0.884499       0.785449          -1.418347    -0.564142\n",
       "1         -0.811126       0.126188          -1.062250    -0.501703\n",
       "2         -0.664380       0.430462          -0.421277    -1.188532\n",
       "4         -1.324737       1.089724          -0.563715    -0.938776\n",
       "5         -0.847812       1.748985          -0.777373    -0.689020\n",
       "..              ...            ...                ...          ...\n",
       "338        0.601305      -1.750171           0.931890     0.903175\n",
       "340        0.527932      -1.445897           1.003109     0.809516\n",
       "341        1.188289      -0.735923           1.501644     1.933419\n",
       "342        0.234440      -1.192335           0.789451     1.246590\n",
       "343        1.096572      -0.533073           0.860670     1.496346\n",
       "\n",
       "[342 rows x 4 columns]"
      ]
     },
     "execution_count": 245,
     "metadata": {},
     "output_type": "execute_result"
    }
   ],
   "source": [
    "scaled_df"
   ]
  },
  {
   "cell_type": "code",
   "execution_count": 246,
   "id": "40b9aa7b",
   "metadata": {},
   "outputs": [],
   "source": [
    "getdummies = pd.get_dummies(dataset, columns=['sex', 'island'])"
   ]
  },
  {
   "cell_type": "code",
   "execution_count": 247,
   "id": "8cb07e72",
   "metadata": {},
   "outputs": [],
   "source": [
    "label_encoder = LabelEncoder()\n",
    "getdummies['species'] = label_encoder.fit_transform(getdummies['species'])"
   ]
  },
  {
   "cell_type": "code",
   "execution_count": 248,
   "id": "f26d0223",
   "metadata": {},
   "outputs": [],
   "source": [
    "base_limpa = getdummies.dropna()"
   ]
  },
  {
   "cell_type": "code",
   "execution_count": 249,
   "id": "722c6b05",
   "metadata": {},
   "outputs": [
    {
     "data": {
      "text/plain": [
       "species              0\n",
       "bill_length_mm       0\n",
       "bill_depth_mm        0\n",
       "flipper_length_mm    0\n",
       "body_mass_g          0\n",
       "sex_Female           0\n",
       "sex_Male             0\n",
       "island_Biscoe        0\n",
       "island_Dream         0\n",
       "island_Torgersen     0\n",
       "dtype: int64"
      ]
     },
     "execution_count": 249,
     "metadata": {},
     "output_type": "execute_result"
    }
   ],
   "source": [
    "base_limpa.isnull().sum()"
   ]
  },
  {
   "cell_type": "code",
   "execution_count": 250,
   "id": "5a924c25",
   "metadata": {},
   "outputs": [
    {
     "data": {
      "text/plain": [
       "0      0\n",
       "1      0\n",
       "2      0\n",
       "4      0\n",
       "5      0\n",
       "      ..\n",
       "338    2\n",
       "340    2\n",
       "341    2\n",
       "342    2\n",
       "343    2\n",
       "Name: species, Length: 342, dtype: int64"
      ]
     },
     "execution_count": 250,
     "metadata": {},
     "output_type": "execute_result"
    }
   ],
   "source": [
    "base_limpa['species']"
   ]
  },
  {
   "cell_type": "code",
   "execution_count": 15,
   "id": "a09d7bd7",
   "metadata": {},
   "outputs": [],
   "source": [
    "inertia = []  \n",
    "k_range = range(1, 11)  \n",
    "\n",
    "for k in k_range:\n",
    "    kmeans = KMeans(n_clusters=k, random_state=42)\n",
    "    kmeans.fit(scaled_df)\n",
    "    inertia.append(kmeans.inertia_)"
   ]
  },
  {
   "cell_type": "code",
   "execution_count": 16,
   "id": "9a10a433",
   "metadata": {},
   "outputs": [
    {
     "data": {
      "text/plain": [
       "[<matplotlib.lines.Line2D at 0x7463d345ff10>]"
      ]
     },
     "execution_count": 16,
     "metadata": {},
     "output_type": "execute_result"
    },
    {
     "data": {
      "image/png": "[encoded data removed]",
      "text/plain": [
       "<Figure size 432x288 with 1 Axes>"
      ]
     },
     "metadata": {
      "needs_background": "light"
     },
     "output_type": "display_data"
    }
   ],
   "source": [
    "plt.plot(k_range, inertia)"
   ]
  },
  {
   "cell_type": "code",
   "execution_count": 17,
   "id": "bf48637b",
   "metadata": {},
   "outputs": [
    {
     "data": {
      "text/plain": [
       "[1368.0,\n",
       " 565.7076453796292,\n",
       " 379.3925027555174,\n",
       " 311.59786254790873,\n",
       " 283.433727948321,\n",
       " 267.33668617408654,\n",
       " 255.9069916779663,\n",
       " 174.78583986889794,\n",
       " 161.41734135107052,\n",
       " 156.47691310262093]"
      ]
     },
     "execution_count": 17,
     "metadata": {},
     "output_type": "execute_result"
    }
   ],
   "source": [
    "#k proximo a 4 ou 5\n",
    "inertia"
   ]
  },
  {
   "cell_type": "code",
   "execution_count": 18,
   "id": "a8b1d591",
   "metadata": {},
   "outputs": [],
   "source": [
    "silhouette = []\n",
    "for k in range(2,11):\n",
    "    kmeans_s = KMeans(n_clusters=k, random_state=42)\n",
    "    kmeans_s.fit(scaled_df)\n",
    "    score = silhouette_score(scaled_df, kmeans_s.labels_)\n",
    "    silhouette.append(score)"
   ]
  },
  {
   "cell_type": "code",
   "execution_count": 19,
   "id": "76c2d49b",
   "metadata": {},
   "outputs": [
    {
     "data": {
      "text/plain": [
       "[<matplotlib.lines.Line2D at 0x7463cb334910>]"
      ]
     },
     "execution_count": 19,
     "metadata": {},
     "output_type": "execute_result"
    },
    {
     "data": {
      "image/png": "[encoded data removed]",
      "text/plain": [
       "<Figure size 432x288 with 1 Axes>"
      ]
     },
     "metadata": {
      "needs_background": "light"
     },
     "output_type": "display_data"
    }
   ],
   "source": [
    "plt.plot(range(2,11), silhouette)"
   ]
  },
  {
   "cell_type": "code",
   "execution_count": 20,
   "id": "7cc49a9f",
   "metadata": {},
   "outputs": [
    {
     "data": {
      "text/plain": [
       "[0.5315403219473027,\n",
       " 0.4472192983966046,\n",
       " 0.42452124267556424,\n",
       " 0.4054902668996784,\n",
       " 0.3697725919595356,\n",
       " 0.3647542513037988,\n",
       " 0.28958857762840784,\n",
       " 0.28507537017413853,\n",
       " 0.2534503234342754]"
      ]
     },
     "execution_count": 20,
     "metadata": {},
     "output_type": "execute_result"
    }
   ],
   "source": [
    "# k proximo a 2 ou 3\n",
    "silhouette"
   ]
  },
  {
   "cell_type": "code",
   "execution_count": 362,
   "id": "7b6abe40",
   "metadata": {},
   "outputs": [],
   "source": [
    "# escolha do k como 3 por ter boa qualidade nos dois métodos"
   ]
  },
  {
   "cell_type": "code",
   "execution_count": 365,
   "id": "5a4860a2",
   "metadata": {},
   "outputs": [
    {
     "name": "stdout",
     "output_type": "stream",
     "text": [
      "Homogeneidade do modelo KMeans: 0.6268\n",
      "Silhouette Score: 0.4553\n"
     ]
    }
   ],
   "source": [
    "X = scaled_df\n",
    "y = base_limpa['species']\n",
    "\n",
    "X_train, X_test, y_train, y_test = train_test_split(X, y, test_size=0.3, random_state=42)\n",
    "\n",
    "kmeans = KMeans(n_clusters=3, random_state=42)\n",
    "kmeans.fit(X_train)\n",
    "\n",
    "y_pred = kmeans.predict(X_test)\n",
    "homogeneity = homogeneity_score(y_test, y_pred)\n",
    "sil_score = silhouette_score(X_test, y_pred)\n",
    "\n",
    "print(f'Homogeneidade do modelo KMeans: {homogeneity:.4f}')\n",
    "print(f'Silhouette Score: {sil_score:.4f}')"
   ]
  },
  {
   "cell_type": "code",
   "execution_count": 366,
   "id": "259f6d44",
   "metadata": {},
   "outputs": [],
   "source": [
    "from sklearn.cluster import AgglomerativeClustering"
   ]
  },
  {
   "cell_type": "code",
   "execution_count": 367,
   "id": "2114eebf",
   "metadata": {},
   "outputs": [
    {
     "data": {
      "text/html": [
       "<style>#sk-container-id-6 {\n",
       "  /* Definition of color scheme common for light and dark mode */\n",
       "  --sklearn-color-text: black;\n",
       "  --sklearn-color-line: gray;\n",
       "  /* Definition of color scheme for unfitted estimators */\n",
       "  --sklearn-color-unfitted-level-0: #fff5e6;\n",
       "  --sklearn-color-unfitted-level-1: #f6e4d2;\n",
       "  --sklearn-color-unfitted-level-2: #ffe0b3;\n",
       "  --sklearn-color-unfitted-level-3: chocolate;\n",
       "  /* Definition of color scheme for fitted estimators */\n",
       "  --sklearn-color-fitted-level-0: #f0f8ff;\n",
       "  --sklearn-color-fitted-level-1: #d4ebff;\n",
       "  --sklearn-color-fitted-level-2: #b3dbfd;\n",
       "  --sklearn-color-fitted-level-3: cornflowerblue;\n",
       "\n",
       "  /* Specific color for light theme */\n",
       "  --sklearn-color-text-on-default-background: var(--sg-text-color, var(--theme-code-foreground, var(--jp-content-font-color1, black)));\n",
       "  --sklearn-color-background: var(--sg-background-color, var(--theme-background, var(--jp-layout-color0, white)));\n",
       "  --sklearn-color-border-box: var(--sg-text-color, var(--theme-code-foreground, var(--jp-content-font-color1, black)));\n",
       "  --sklearn-color-icon: #696969;\n",
       "\n",
       "  @media (prefers-color-scheme: dark) {\n",
       "    /* Redefinition of color scheme for dark theme */\n",
       "    --sklearn-color-text-on-default-background: var(--sg-text-color, var(--theme-code-foreground, var(--jp-content-font-color1, white)));\n",
       "    --sklearn-color-background: var(--sg-background-color, var(--theme-background, var(--jp-layout-color0, #111)));\n",
       "    --sklearn-color-border-box: var(--sg-text-color, var(--theme-code-foreground, var(--jp-content-font-color1, white)));\n",
       "    --sklearn-color-icon: #878787;\n",
       "  }\n",
       "}\n",
       "\n",
       "#sk-container-id-6 {\n",
       "  color: var(--sklearn-color-text);\n",
       "}\n",
       "\n",
       "#sk-container-id-6 pre {\n",
       "  padding: 0;\n",
       "}\n",
       "\n",
       "#sk-container-id-6 input.sk-hidden--visually {\n",
       "  border: 0;\n",
       "  clip: rect(1px 1px 1px 1px);\n",
       "  clip: rect(1px, 1px, 1px, 1px);\n",
       "  height: 1px;\n",
       "  margin: -1px;\n",
       "  overflow: hidden;\n",
       "  padding: 0;\n",
       "  position: absolute;\n",
       "  width: 1px;\n",
       "}\n",
       "\n",
       "#sk-container-id-6 div.sk-dashed-wrapped {\n",
       "  border: 1px dashed var(--sklearn-color-line);\n",
       "  margin: 0 0.4em 0.5em 0.4em;\n",
       "  box-sizing: border-box;\n",
       "  padding-bottom: 0.4em;\n",
       "  background-color: var(--sklearn-color-background);\n",
       "}\n",
       "\n",
       "#sk-container-id-6 div.sk-container {\n",
       "  /* jupyter's `normalize.less` sets `[hidden] { display: none; }`\n",
       "     but bootstrap.min.css set `[hidden] { display: none !important; }`\n",
       "     so we also need the `!important` here to be able to override the\n",
       "     default hidden behavior on the sphinx rendered scikit-learn.org.\n",
       "     See: https://github.com/scikit-learn/scikit-learn/issues/21755 */\n",
       "  display: inline-block !important;\n",
       "  position: relative;\n",
       "}\n",
       "\n",
       "#sk-container-id-6 div.sk-text-repr-fallback {\n",
       "  display: none;\n",
       "}\n",
       "\n",
       "div.sk-parallel-item,\n",
       "div.sk-serial,\n",
       "div.sk-item {\n",
       "  /* draw centered vertical line to link estimators */\n",
       "  background-image: linear-gradient(var(--sklearn-color-text-on-default-background), var(--sklearn-color-text-on-default-background));\n",
       "  background-size: 2px 100%;\n",
       "  background-repeat: no-repeat;\n",
       "  background-position: center center;\n",
       "}\n",
       "\n",
       "/* Parallel-specific style estimator block */\n",
       "\n",
       "#sk-container-id-6 div.sk-parallel-item::after {\n",
       "  content: \"\";\n",
       "  width: 100%;\n",
       "  border-bottom: 2px solid var(--sklearn-color-text-on-default-background);\n",
       "  flex-grow: 1;\n",
       "}\n",
       "\n",
       "#sk-container-id-6 div.sk-parallel {\n",
       "  display: flex;\n",
       "  align-items: stretch;\n",
       "  justify-content: center;\n",
       "  background-color: var(--sklearn-color-background);\n",
       "  position: relative;\n",
       "}\n",
       "\n",
       "#sk-container-id-6 div.sk-parallel-item {\n",
       "  display: flex;\n",
       "  flex-direction: column;\n",
       "}\n",
       "\n",
       "#sk-container-id-6 div.sk-parallel-item:first-child::after {\n",
       "  align-self: flex-end;\n",
       "  width: 50%;\n",
       "}\n",
       "\n",
       "#sk-container-id-6 div.sk-parallel-item:last-child::after {\n",
       "  align-self: flex-start;\n",
       "  width: 50%;\n",
       "}\n",
       "\n",
       "#sk-container-id-6 div.sk-parallel-item:only-child::after {\n",
       "  width: 0;\n",
       "}\n",
       "\n",
       "/* Serial-specific style estimator block */\n",
       "\n",
       "#sk-container-id-6 div.sk-serial {\n",
       "  display: flex;\n",
       "  flex-direction: column;\n",
       "  align-items: center;\n",
       "  background-color: var(--sklearn-color-background);\n",
       "  padding-right: 1em;\n",
       "  padding-left: 1em;\n",
       "}\n",
       "\n",
       "\n",
       "/* Toggleable style: style used for estimator/Pipeline/ColumnTransformer box that is\n",
       "clickable and can be expanded/collapsed.\n",
       "- Pipeline and ColumnTransformer use this feature and define the default style\n",
       "- Estimators will overwrite some part of the style using the `sk-estimator` class\n",
       "*/\n",
       "\n",
       "/* Pipeline and ColumnTransformer style (default) */\n",
       "\n",
       "#sk-container-id-6 div.sk-toggleable {\n",
       "  /* Default theme specific background. It is overwritten whether we have a\n",
       "  specific estimator or a Pipeline/ColumnTransformer */\n",
       "  background-color: var(--sklearn-color-background);\n",
       "}\n",
       "\n",
       "/* Toggleable label */\n",
       "#sk-container-id-6 label.sk-toggleable__label {\n",
       "  cursor: pointer;\n",
       "  display: block;\n",
       "  width: 100%;\n",
       "  margin-bottom: 0;\n",
       "  padding: 0.5em;\n",
       "  box-sizing: border-box;\n",
       "  text-align: center;\n",
       "}\n",
       "\n",
       "#sk-container-id-6 label.sk-toggleable__label-arrow:before {\n",
       "  /* Arrow on the left of the label */\n",
       "  content: \"▸\";\n",
       "  float: left;\n",
       "  margin-right: 0.25em;\n",
       "  color: var(--sklearn-color-icon);\n",
       "}\n",
       "\n",
       "#sk-container-id-6 label.sk-toggleable__label-arrow:hover:before {\n",
       "  color: var(--sklearn-color-text);\n",
       "}\n",
       "\n",
       "/* Toggleable content - dropdown */\n",
       "\n",
       "#sk-container-id-6 div.sk-toggleable__content {\n",
       "  max-height: 0;\n",
       "  max-width: 0;\n",
       "  overflow: hidden;\n",
       "  text-align: left;\n",
       "  /* unfitted */\n",
       "  background-color: var(--sklearn-color-unfitted-level-0);\n",
       "}\n",
       "\n",
       "#sk-container-id-6 div.sk-toggleable__content.fitted {\n",
       "  /* fitted */\n",
       "  background-color: var(--sklearn-color-fitted-level-0);\n",
       "}\n",
       "\n",
       "#sk-container-id-6 div.sk-toggleable__content pre {\n",
       "  margin: 0.2em;\n",
       "  border-radius: 0.25em;\n",
       "  color: var(--sklearn-color-text);\n",
       "  /* unfitted */\n",
       "  background-color: var(--sklearn-color-unfitted-level-0);\n",
       "}\n",
       "\n",
       "#sk-container-id-6 div.sk-toggleable__content.fitted pre {\n",
       "  /* unfitted */\n",
       "  background-color: var(--sklearn-color-fitted-level-0);\n",
       "}\n",
       "\n",
       "#sk-container-id-6 input.sk-toggleable__control:checked~div.sk-toggleable__content {\n",
       "  /* Expand drop-down */\n",
       "  max-height: 200px;\n",
       "  max-width: 100%;\n",
       "  overflow: auto;\n",
       "}\n",
       "\n",
       "#sk-container-id-6 input.sk-toggleable__control:checked~label.sk-toggleable__label-arrow:before {\n",
       "  content: \"▾\";\n",
       "}\n",
       "\n",
       "/* Pipeline/ColumnTransformer-specific style */\n",
       "\n",
       "#sk-container-id-6 div.sk-label input.sk-toggleable__control:checked~label.sk-toggleable__label {\n",
       "  color: var(--sklearn-color-text);\n",
       "  background-color: var(--sklearn-color-unfitted-level-2);\n",
       "}\n",
       "\n",
       "#sk-container-id-6 div.sk-label.fitted input.sk-toggleable__control:checked~label.sk-toggleable__label {\n",
       "  background-color: var(--sklearn-color-fitted-level-2);\n",
       "}\n",
       "\n",
       "/* Estimator-specific style */\n",
       "\n",
       "/* Colorize estimator box */\n",
       "#sk-container-id-6 div.sk-estimator input.sk-toggleable__control:checked~label.sk-toggleable__label {\n",
       "  /* unfitted */\n",
       "  background-color: var(--sklearn-color-unfitted-level-2);\n",
       "}\n",
       "\n",
       "#sk-container-id-6 div.sk-estimator.fitted input.sk-toggleable__control:checked~label.sk-toggleable__label {\n",
       "  /* fitted */\n",
       "  background-color: var(--sklearn-color-fitted-level-2);\n",
       "}\n",
       "\n",
       "#sk-container-id-6 div.sk-label label.sk-toggleable__label,\n",
       "#sk-container-id-6 div.sk-label label {\n",
       "  /* The background is the default theme color */\n",
       "  color: var(--sklearn-color-text-on-default-background);\n",
       "}\n",
       "\n",
       "/* On hover, darken the color of the background */\n",
       "#sk-container-id-6 div.sk-label:hover label.sk-toggleable__label {\n",
       "  color: var(--sklearn-color-text);\n",
       "  background-color: var(--sklearn-color-unfitted-level-2);\n",
       "}\n",
       "\n",
       "/* Label box, darken color on hover, fitted */\n",
       "#sk-container-id-6 div.sk-label.fitted:hover label.sk-toggleable__label.fitted {\n",
       "  color: var(--sklearn-color-text);\n",
       "  background-color: var(--sklearn-color-fitted-level-2);\n",
       "}\n",
       "\n",
       "/* Estimator label */\n",
       "\n",
       "#sk-container-id-6 div.sk-label label {\n",
       "  font-family: monospace;\n",
       "  font-weight: bold;\n",
       "  display: inline-block;\n",
       "  line-height: 1.2em;\n",
       "}\n",
       "\n",
       "#sk-container-id-6 div.sk-label-container {\n",
       "  text-align: center;\n",
       "}\n",
       "\n",
       "/* Estimator-specific */\n",
       "#sk-container-id-6 div.sk-estimator {\n",
       "  font-family: monospace;\n",
       "  border: 1px dotted var(--sklearn-color-border-box);\n",
       "  border-radius: 0.25em;\n",
       "  box-sizing: border-box;\n",
       "  margin-bottom: 0.5em;\n",
       "  /* unfitted */\n",
       "  background-color: var(--sklearn-color-unfitted-level-0);\n",
       "}\n",
       "\n",
       "#sk-container-id-6 div.sk-estimator.fitted {\n",
       "  /* fitted */\n",
       "  background-color: var(--sklearn-color-fitted-level-0);\n",
       "}\n",
       "\n",
       "/* on hover */\n",
       "#sk-container-id-6 div.sk-estimator:hover {\n",
       "  /* unfitted */\n",
       "  background-color: var(--sklearn-color-unfitted-level-2);\n",
       "}\n",
       "\n",
       "#sk-container-id-6 div.sk-estimator.fitted:hover {\n",
       "  /* fitted */\n",
       "  background-color: var(--sklearn-color-fitted-level-2);\n",
       "}\n",
       "\n",
       "/* Specification for estimator info (e.g. \"i\" and \"?\") */\n",
       "\n",
       "/* Common style for \"i\" and \"?\" */\n",
       "\n",
       ".sk-estimator-doc-link,\n",
       "a:link.sk-estimator-doc-link,\n",
       "a:visited.sk-estimator-doc-link {\n",
       "  float: right;\n",
       "  font-size: smaller;\n",
       "  line-height: 1em;\n",
       "  font-family: monospace;\n",
       "  background-color: var(--sklearn-color-background);\n",
       "  border-radius: 1em;\n",
       "  height: 1em;\n",
       "  width: 1em;\n",
       "  text-decoration: none !important;\n",
       "  margin-left: 1ex;\n",
       "  /* unfitted */\n",
       "  border: var(--sklearn-color-unfitted-level-1) 1pt solid;\n",
       "  color: var(--sklearn-color-unfitted-level-1);\n",
       "}\n",
       "\n",
       ".sk-estimator-doc-link.fitted,\n",
       "a:link.sk-estimator-doc-link.fitted,\n",
       "a:visited.sk-estimator-doc-link.fitted {\n",
       "  /* fitted */\n",
       "  border: var(--sklearn-color-fitted-level-1) 1pt solid;\n",
       "  color: var(--sklearn-color-fitted-level-1);\n",
       "}\n",
       "\n",
       "/* On hover */\n",
       "div.sk-estimator:hover .sk-estimator-doc-link:hover,\n",
       ".sk-estimator-doc-link:hover,\n",
       "div.sk-label-container:hover .sk-estimator-doc-link:hover,\n",
       ".sk-estimator-doc-link:hover {\n",
       "  /* unfitted */\n",
       "  background-color: var(--sklearn-color-unfitted-level-3);\n",
       "  color: var(--sklearn-color-background);\n",
       "  text-decoration: none;\n",
       "}\n",
       "\n",
       "div.sk-estimator.fitted:hover .sk-estimator-doc-link.fitted:hover,\n",
       ".sk-estimator-doc-link.fitted:hover,\n",
       "div.sk-label-container:hover .sk-estimator-doc-link.fitted:hover,\n",
       ".sk-estimator-doc-link.fitted:hover {\n",
       "  /* fitted */\n",
       "  background-color: var(--sklearn-color-fitted-level-3);\n",
       "  color: var(--sklearn-color-background);\n",
       "  text-decoration: none;\n",
       "}\n",
       "\n",
       "/* Span, style for the box shown on hovering the info icon */\n",
       ".sk-estimator-doc-link span {\n",
       "  display: none;\n",
       "  z-index: 9999;\n",
       "  position: relative;\n",
       "  font-weight: normal;\n",
       "  right: .2ex;\n",
       "  padding: .5ex;\n",
       "  margin: .5ex;\n",
       "  width: min-content;\n",
       "  min-width: 20ex;\n",
       "  max-width: 50ex;\n",
       "  color: var(--sklearn-color-text);\n",
       "  box-shadow: 2pt 2pt 4pt #999;\n",
       "  /* unfitted */\n",
       "  background: var(--sklearn-color-unfitted-level-0);\n",
       "  border: .5pt solid var(--sklearn-color-unfitted-level-3);\n",
       "}\n",
       "\n",
       ".sk-estimator-doc-link.fitted span {\n",
       "  /* fitted */\n",
       "  background: var(--sklearn-color-fitted-level-0);\n",
       "  border: var(--sklearn-color-fitted-level-3);\n",
       "}\n",
       "\n",
       ".sk-estimator-doc-link:hover span {\n",
       "  display: block;\n",
       "}\n",
       "\n",
       "/* \"?\"-specific style due to the `<a>` HTML tag */\n",
       "\n",
       "#sk-container-id-6 a.estimator_doc_link {\n",
       "  float: right;\n",
       "  font-size: 1rem;\n",
       "  line-height: 1em;\n",
       "  font-family: monospace;\n",
       "  background-color: var(--sklearn-color-background);\n",
       "  border-radius: 1rem;\n",
       "  height: 1rem;\n",
       "  width: 1rem;\n",
       "  text-decoration: none;\n",
       "  /* unfitted */\n",
       "  color: var(--sklearn-color-unfitted-level-1);\n",
       "  border: var(--sklearn-color-unfitted-level-1) 1pt solid;\n",
       "}\n",
       "\n",
       "#sk-container-id-6 a.estimator_doc_link.fitted {\n",
       "  /* fitted */\n",
       "  border: var(--sklearn-color-fitted-level-1) 1pt solid;\n",
       "  color: var(--sklearn-color-fitted-level-1);\n",
       "}\n",
       "\n",
       "/* On hover */\n",
       "#sk-container-id-6 a.estimator_doc_link:hover {\n",
       "  /* unfitted */\n",
       "  background-color: var(--sklearn-color-unfitted-level-3);\n",
       "  color: var(--sklearn-color-background);\n",
       "  text-decoration: none;\n",
       "}\n",
       "\n",
       "#sk-container-id-6 a.estimator_doc_link.fitted:hover {\n",
       "  /* fitted */\n",
       "  background-color: var(--sklearn-color-fitted-level-3);\n",
       "}\n",
       "</style><div id=\"sk-container-id-6\" class=\"sk-top-container\"><div class=\"sk-text-repr-fallback\"><pre>AgglomerativeClustering(n_clusters=3)</pre><b>In a Jupyter environment, please rerun this cell to show the HTML representation or trust the notebook. <br />On GitHub, the HTML representation is unable to render, please try loading this page with nbviewer.org.</b></div><div class=\"sk-container\" hidden><div class=\"sk-item\"><div class=\"sk-estimator fitted sk-toggleable\"><input class=\"sk-toggleable__control sk-hidden--visually\" id=\"sk-estimator-id-6\" type=\"checkbox\" checked><label for=\"sk-estimator-id-6\" class=\"sk-toggleable__label fitted sk-toggleable__label-arrow fitted\">&nbsp;&nbsp;AgglomerativeClustering<a class=\"sk-estimator-doc-link fitted\" rel=\"noreferrer\" target=\"_blank\" href=\"https://scikit-learn.org/1.5/modules/generated/sklearn.cluster.AgglomerativeClustering.html\">?<span>Documentation for AgglomerativeClustering</span></a><span class=\"sk-estimator-doc-link fitted\">i<span>Fitted</span></span></label><div class=\"sk-toggleable__content fitted\"><pre>AgglomerativeClustering(n_clusters=3)</pre></div> </div></div></div></div>"
      ],
      "text/plain": [
       "AgglomerativeClustering(n_clusters=3)"
      ]
     },
     "execution_count": 367,
     "metadata": {},
     "output_type": "execute_result"
    }
   ],
   "source": [
    "clustering = AgglomerativeClustering(n_clusters=3)\n",
    "clustering.fit(X_train)"
   ]
  },
  {
   "cell_type": "code",
   "execution_count": 372,
   "id": "4424ab95",
   "metadata": {},
   "outputs": [
    {
     "name": "stdout",
     "output_type": "stream",
     "text": [
      "Homogeneidade do modelo Agglomerative Clustering: 0.7841\n",
      "Silhouette Score: 0.4124\n"
     ]
    }
   ],
   "source": [
    "y_pred_agg = clustering.fit_predict(X_test)\n",
    "\n",
    "homogeneity = homogeneity_score(y_test, y_pred_agg)\n",
    "sil_score = silhouette_score(X_test, y_pred_agg)\n",
    "\n",
    "print(f'Homogeneidade do modelo Agglomerative Clustering: {homogeneity:.4f}')\n",
    "print(f'Silhouette Score: {sil_score:.4f}')\n"
   ]
  },
  {
   "cell_type": "code",
   "execution_count": 369,
   "id": "29adc17b",
   "metadata": {},
   "outputs": [
    {
     "data": {
      "image/png": "[encoded data removed]",
      "text/plain": [
       "<Figure size 720x504 with 1 Axes>"
      ]
     },
     "metadata": {
      "needs_background": "light"
     },
     "output_type": "display_data"
    }
   ],
   "source": [
    "from scipy.cluster.hierarchy import dendrogram, linkage\n",
    "linked = linkage(scaled_df, method='ward')\n",
    "\n",
    "plt.figure(figsize=(10, 7))\n",
    "dendrogram(linked, orientation='top', distance_sort='descending')\n",
    "plt.title('Dendrograma')\n",
    "plt.show()"
   ]
  },
  {
   "cell_type": "code",
   "execution_count": 370,
   "id": "fd602bf9",
   "metadata": {},
   "outputs": [
    {
     "data": {
      "image/png": "[encoded data removed]",
      "text/plain": [
       "<Figure size 720x504 with 1 Axes>"
      ]
     },
     "metadata": {
      "needs_background": "light"
     },
     "output_type": "display_data"
    }
   ],
   "source": [
    "plt.figure(figsize=(10, 7))\n",
    "plt.scatter(X_test.iloc[:, 0], X_test.iloc[:, 1], c=y_pred_agg)\n",
    "plt.title('Clusters formados pelo Agglomerative Clustering')\n",
    "plt.xlabel('Bill Length (mm)')\n",
    "plt.ylabel('Bill Depth (mm)')\n",
    "plt.show()"
   ]
  },
  {
   "cell_type": "code",
   "execution_count": 296,
   "id": "b861580c",
   "metadata": {},
   "outputs": [],
   "source": [
    "from sklearn.cluster import DBSCAN"
   ]
  },
  {
   "cell_type": "code",
   "execution_count": 373,
   "id": "e30951ed",
   "metadata": {},
   "outputs": [],
   "source": [
    "dbscan = DBSCAN(eps=0.9, min_samples=5)\n",
    "dbscan.fit(X_train)\n",
    "y_pred_db = dbscan.fit_predict(X_test)"
   ]
  },
  {
   "cell_type": "code",
   "execution_count": 374,
   "id": "6e8e5ed5",
   "metadata": {},
   "outputs": [],
   "source": [
    "mask = y_pred_db != -1\n",
    "X_test_valid = X_test[mask]\n",
    "y_pred_valid = y_pred_db[mask]\n",
    "\n",
    "sil_score_db = silhouette_score(X_test_valid, y_pred_valid)\n",
    "homogeneity_db = homogeneity_score(y_test, y_pred_db)"
   ]
  },
  {
   "cell_type": "code",
   "execution_count": 375,
   "id": "0fb0fa9c",
   "metadata": {},
   "outputs": [
    {
     "name": "stdout",
     "output_type": "stream",
     "text": [
      "Homogeneidade do modelo DBSCAN: 0.6374\n",
      "Silhouette Score: 0.5384\n"
     ]
    }
   ],
   "source": [
    "print(f'Homogeneidade do modelo DBSCAN: {homogeneity_db:.4f}')\n",
    "print(f'Silhouette Score: {sil_score_db:.4f}')"
   ]
  },
  {
   "cell_type": "code",
   "execution_count": 376,
   "id": "3253e9c1",
   "metadata": {},
   "outputs": [
    {
     "data": {
      "text/plain": [
       "array([ 0,  1, -1,  1,  1,  0, -1,  1,  0,  1,  1,  0,  0,  0,  1,  1,  1,\n",
       "        1, -1,  1,  1,  1,  0,  1,  1,  1,  1,  1,  1,  0,  1,  1,  1,  0,\n",
       "        1,  1,  1,  0,  1,  1,  1,  1,  0,  0,  1,  1,  0,  0,  1,  1,  0,\n",
       "        1,  0,  1,  1,  1,  1,  0,  0,  1,  0,  0,  0,  0,  1,  1,  1,  1,\n",
       "        1,  1,  1,  1,  0,  0,  0,  1,  0,  1,  0,  1,  1,  0,  1,  0,  1,\n",
       "        1,  1,  0,  1,  1,  0,  0,  0,  0,  1,  1,  1,  1,  1,  1,  1,  1,\n",
       "        0])"
      ]
     },
     "execution_count": 376,
     "metadata": {},
     "output_type": "execute_result"
    }
   ],
   "source": [
    "y_pred_db"
   ]
  },
  {
   "cell_type": "code",
   "execution_count": 378,
   "id": "ae43cbbd",
   "metadata": {},
   "outputs": [
    {
     "data": {
      "image/png": "[encoded data removed]",
      "text/plain": [
       "<Figure size 720x504 with 1 Axes>"
      ]
     },
     "metadata": {
      "needs_background": "light"
     },
     "output_type": "display_data"
    }
   ],
   "source": [
    "plt.figure(figsize=(10, 7))\n",
    "plt.scatter(X_test_valid.iloc[:, 0], X_test_valid.iloc[:, 1], c=y_pred_valid, cmap='viridis')\n",
    "plt.title('Clusters formados pelo DBSCAN (Conjunto de Teste)')\n",
    "plt.xlabel('Bill Length (mm)')\n",
    "plt.ylabel('Bill Depth (mm)')\n",
    "plt.show()"
   ]
  },
  {
   "cell_type": "code",
   "execution_count": 357,
   "id": "6f7dfabf",
   "metadata": {},
   "outputs": [],
   "source": [
    "from sklearn.model_selection import KFold\n",
    "\n",
    "X_scaled = scaled_df.to_numpy()\n",
    "kf = KFold(n_splits=10, shuffle=True, random_state=42)"
   ]
  },
  {
   "cell_type": "code",
   "execution_count": 358,
   "id": "3987bb69",
   "metadata": {},
   "outputs": [
    {
     "name": "stdout",
     "output_type": "stream",
     "text": [
      "[0.3644598256486746, 0.38310012621271805, 0.5475455025181932, 0.5418010815754146, 0.4960442937466491, 0.4757585702970053, 0.4664339583116322, 0.36931196985088843, 0.3900899724260831, 0.42056259581427263] \n",
      "\n",
      "KMeans - Média do Silhouette Score: 0.4455 \n",
      "\n",
      "[0.7945575790438153, 0.6940894363491171, 0.83716518537655, 1.0, 0.7857577950056677, 0.9141560418036804, 0.9151815407663205, 0.7320012455492031, 0.7775491635392965, 0.8582642774442322] \n",
      "\n",
      "KMeans - Média do Homogeneity Score: 0.8309 \n",
      "\n"
     ]
    }
   ],
   "source": [
    "#KMeans\n",
    "silhouette_scores_kmeans = []\n",
    "homogeneity_scores_kmeans = []\n",
    "\n",
    "for train_index, test_index in kf.split(X_scaled):\n",
    "    X_train, X_test = X_scaled[train_index], X_scaled[test_index]\n",
    "    y_test = y.iloc[test_index] \n",
    "    \n",
    "    kmeans = KMeans(n_clusters=3, random_state=42)\n",
    "    kmeans.fit(X_train)\n",
    "    y_pred_kmeans = kmeans.predict(X_test)\n",
    "    \n",
    "    silhouette_kmeans = silhouette_score(X_test, y_pred_kmeans)\n",
    "    silhouette_scores_kmeans.append(silhouette_kmeans)\n",
    "\n",
    "    homogeneity_kmeans = homogeneity_score(y_test, y_pred_kmeans)\n",
    "    homogeneity_scores_kmeans.append(homogeneity_kmeans)\n",
    "    \n",
    "print(silhouette_scores_kmeans, \"\\n\")\n",
    "print(f'KMeans - Média do Silhouette Score: {np.mean(silhouette_scores_kmeans):.4f}', \"\\n\")\n",
    "print(homogeneity_scores_kmeans, \"\\n\")\n",
    "print(f'KMeans - Média do Homogeneity Score: {np.mean(homogeneity_scores_kmeans):.4f}', \"\\n\")"
   ]
  },
  {
   "cell_type": "code",
   "execution_count": 359,
   "id": "bfa92ec0",
   "metadata": {},
   "outputs": [
    {
     "name": "stdout",
     "output_type": "stream",
     "text": [
      "[0.42001859880776016, 0.38494554716187446, 0.5475455025181932, 0.5418010815754146, 0.5028511255475019, 0.4832431373745787, 0.46239043293945936, 0.39975495166153097, 0.45425753461136453, 0.43815725172383635] \n",
      "\n",
      "Média do Silhouette Score: 0.4635 \n",
      "\n",
      "[1.0, 0.6691517421764842, 0.8371651853765502, 1.0, 0.74049644168856, 1.0, 0.8929777965720108, 0.6348365681643506, 0.7178094169247771, 0.7408875795161344] \n",
      "\n",
      "Média do Homogeneity Score: 0.8233 \n",
      "\n"
     ]
    }
   ],
   "source": [
    "#AgglomerativeClustering\n",
    "\n",
    "silhouette_scores_agg = []\n",
    "homogeneity_scores_agg = []\n",
    "\n",
    "for train_index, test_index in kf.split(X_scaled):\n",
    "    X_train, X_test = X_scaled[train_index], X_scaled[test_index]\n",
    "    y_test = y.iloc[test_index] \n",
    "    \n",
    "    agg_clust = AgglomerativeClustering(n_clusters=3)\n",
    "    agg_clust.fit(X_train)\n",
    "    \n",
    "    y_pred_agg = agg_clust.fit_predict(X_test)\n",
    "    \n",
    "    silhouette_agg = silhouette_score(X_test, y_pred_agg)\n",
    "    silhouette_scores_agg.append(silhouette_agg)\n",
    "    \n",
    "    homogeneity_agg = homogeneity_score(y_test, y_pred_agg)\n",
    "    homogeneity_scores_agg.append(homogeneity_agg)\n",
    "\n",
    "print(silhouette_scores_agg, \"\\n\")\n",
    "print(f'Média do Silhouette Score: {np.mean(silhouette_scores_agg):.4f}', \"\\n\")\n",
    "print(homogeneity_scores_agg, \"\\n\")\n",
    "print(f'Média do Homogeneity Score: {np.mean(homogeneity_scores_agg):.4f}', \"\\n\")"
   ]
  },
  {
   "cell_type": "code",
   "execution_count": 360,
   "id": "52e16d68",
   "metadata": {},
   "outputs": [
    {
     "name": "stdout",
     "output_type": "stream",
     "text": [
      "[0.5122009171029497, 0.6805633599256341, 0.6869789127304807, 0.5792678289487773, 0.5586002442868463, 0.5807110984744583, 0.4651176961566199, 0.702425057898767, 0.7375410719527747] \n",
      "\n",
      "DBSCAN - Média do Silhouette Score: 0.6115 \n",
      "\n",
      "[0.9999999999999998, 1.0, 1.0, 0.8288767158859701, 1.0, 1.0, 0.7057625817401808, 0.7232050011294177, 1.0] \n",
      "\n",
      "DBSCAN - Média do Homogeneity Score: 0.9175 \n",
      "\n"
     ]
    }
   ],
   "source": [
    "#BDScan\n",
    "silhouette_scores_dbscan = []\n",
    "homogeneity_scores_dbscan = []\n",
    "\n",
    "for train_index, test_index in kf.split(X_scaled):\n",
    "    X_train, X_test = X_scaled[train_index], X_scaled[test_index]\n",
    "    y_test = y.iloc[test_index] \n",
    "    \n",
    "    dbscan = DBSCAN(eps=0.9, min_samples=5)\n",
    "    y_pred_dbscan = dbscan.fit_predict(X_test) \n",
    "    \n",
    "    mask = y_pred_dbscan != -1 \n",
    "    X_test_valid = X_test[mask]\n",
    "    y_test_valid = y_test.iloc[mask] \n",
    "    y_pred_valid = y_pred_dbscan[mask]  \n",
    "    \n",
    "    if len(set(y_pred_valid)) > 1:  \n",
    "        silhouette_dbscan = silhouette_score(X_test_valid, y_pred_valid)\n",
    "        silhouette_scores_dbscan.append(silhouette_dbscan)\n",
    "    \n",
    "        homogeneity_dbscan = homogeneity_score(y_test_valid, y_pred_valid)\n",
    "        homogeneity_scores_dbscan.append(homogeneity_dbscan)\n",
    "\n",
    "print(silhouette_scores_dbscan, \"\\n\")\n",
    "print(f'DBSCAN - Média do Silhouette Score: {np.mean(silhouette_scores_dbscan):.4f}', \"\\n\")\n",
    "print(homogeneity_scores_dbscan, \"\\n\")\n",
    "print(f'DBSCAN - Média do Homogeneity Score: {np.mean(homogeneity_scores_dbscan):.4f}', \"\\n\")"
   ]
  },
  {
   "cell_type": "markdown",
   "id": "ed7ddde6",
   "metadata": {},
   "source": [
    "| **Modelo**                   | **Silhouette Score** | **Homogeneity Score** |\n",
    "|------------------------------|-------------------------------|--------------------------------|\n",
    "| **KMeans**                   | 0.4553                       | 0.6268                        |\n",
    "| **Agglomerative Clustering**  | 0.4124                        | 0.7841                        |\n",
    "| **DBSCAN**                   |  0.5384                       | 0.6374                        |\n"
   ]
  },
  {
   "cell_type": "markdown",
   "id": "baaeb7e4",
   "metadata": {},
   "source": [
    "- O KMeans apresenta um bom equilíbrio entre separação e consistência, com uma separação moderada entre os clusters (Silhouette Score de 0.4553) e uma homogeneidade razoável (Homogeneity Score de 0.6268), o que significa que ele agrupa pontos semelhantes, mas não de forma perfeitamente consistente. \n",
    "\n",
    "- O Agglomerative Clustering tem uma homogeneidade mais alta (0.7841), indicando que seus clusters são mais consistentes com as classes reais, mas sua separação entre clusters é a menor (Silhouette Score de 0.4124). \n",
    "\n",
    "- Já o DBSCAN se destaca pela boa separção entre clusters (Silhouette Score de 0.5384), mas sua homogeneidade é razoável (0.6374), sugerindo que, embora o modelo consiga distinguir bem os grupos, a correspondência com as classes reais não é tão forte, possivelmente devido à identificação de pontos de ruído."
   ]
  },
  {
   "cell_type": "markdown",
   "id": "9bc91362",
   "metadata": {},
   "source": [
    "##### Com uso de KFold"
   ]
  },
  {
   "cell_type": "markdown",
   "id": "7b9ffe85",
   "metadata": {},
   "source": [
    "| **Modelo**                   | **Média do Silhouette Score (KFold)** | **Média do Homogeneity Score (KFold)** |\n",
    "|------------------------------|---------------------------------------|----------------------------------------|\n",
    "| **KMeans**                   | 0.4455                                | 0.8309                                 |\n",
    "| **Agglomerative Clustering**  | 0.4635                                | 0.8233                                 |\n",
    "| **DBSCAN**                   | 0.6115                                | 0.9175                                 |\n"
   ]
  },
  {
   "cell_type": "markdown",
   "id": "649a42b4",
   "metadata": {},
   "source": [
    "- DBSCAN se destaca tanto no Silhouette Score (qualidade da separação entre os clusters) quanto em Homogeneity Score (se os dados nos clusters pertencem a mesma classe), indicando que é o modelo mais eficaz entre os três no que diz respeito à separação dos clusters e à consistência com os rótulos reais.\n",
    "\n",
    "- KMeans e Agglomerative Clustering têm desempenhos muito próximos em termos de homogeneidade, mas Agglomerative Clustering tem uma ligeira vantagem em termos de Silhouette Score, sugerindo que seus clusters estão ligeiramente melhor separados.\n",
    "\n",
    "- KMeans, embora tenha um bom Homogeneity Score, tem a menor média de Silhouette Score, o que sugere que a separação entre os clusters não é tão boa quanto nos outros dois modelos."
   ]
  },
  {
   "cell_type": "markdown",
   "id": "114e2e2a",
   "metadata": {},
   "source": [
    "Referências:\n",
    "\n",
    "- https://scikit-learn.org/stable/modules/clustering.html#homogeneity-completeness\n",
    "- https://scikit-learn.org/stable/modules/clustering.html#silhouette-coefficient"
   ]
  },
  {
   "cell_type": "code",
   "execution_count": null,
   "id": "2f7119e5",
   "metadata": {},
   "outputs": [],
   "source": []
  }
 ],
 "metadata": {
  "kernelspec": {
   "display_name": "Python 3 (ipykernel)",
   "language": "python",
   "name": "python3"
  },
  "language_info": {
   "codemirror_mode": {
    "name": "ipython",
    "version": 3
   },
   "file_extension": ".py",
   "mimetype": "text/x-python",
   "name": "python",
   "nbconvert_exporter": "python",
   "pygments_lexer": "ipython3",
   "version": "3.10.12"
  }
 },
 "nbformat": 4,
 "nbformat_minor": 5
}
