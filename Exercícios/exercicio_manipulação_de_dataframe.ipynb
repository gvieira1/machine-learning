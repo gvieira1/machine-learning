{
 "cells": [
  {
   "cell_type": "code",
   "execution_count": 2,
   "id": "2697ee89",
   "metadata": {},
   "outputs": [],
   "source": [
    "import pandas as pd\n",
    "import numpy as np"
   ]
  },
  {
   "cell_type": "code",
   "execution_count": 4,
   "id": "d0f5d6a5",
   "metadata": {},
   "outputs": [],
   "source": [
    "dados = {'Nome': ['Anderson', 'Beatriz', 'Bruno', 'Cristiano', 'Daniel', 'Douglas', 'Elena', 'Fabricio', 'Gabriel', 'Janaina', 'Luiz', 'Marcos', 'Nadia', 'Oswaldo', 'Patricia', 'Ricardo'],'Idade': [24, 36, 45, 56, 29, 20, 38, 47, 23, 56, 32, 22, 36, 68, 22, 38],\n",
    "         'Cidade': ['Santos', 'Atibaia', 'Guarulhos', 'Atibaia', 'Santos', 'Guarulhos', 'Guarulhos', 'Atibaia', 'Guarulhos', 'Guarulhos', 'Atibaia', 'Guarulhos', 'Santos', 'Guarulhos', 'Guarulhos', 'Santos'],\n",
    "         'Registro': [32123, 45828, 34985, 13457, 98439, 99348, 45019, 24894, 32948, 13480, 22884, 56821, 65938, 12956, 75439, 45392],\n",
    "         'Departamento': ['RH', 'PD', 'RH', 'ADM', 'ADM', 'RH', 'ADM', 'PD', 'PD', 'ADM', 'PD', 'ADM', 'PD', 'RH', 'ADM', 'PD'],\n",
    "         'Formação': ['Graduação', 'Mestrado', 'Graduação', 'Técnico', 'Graduação', 'Técnico', 'Graduação', 'Graduação', 'Técnico', 'Graduação', 'Graduação', 'Graduação', 'Graduação', 'Mestrado', 'Graduação', 'Mestrado']}"
   ]
  },
  {
   "cell_type": "code",
   "execution_count": 5,
   "id": "808dda85",
   "metadata": {},
   "outputs": [],
   "source": [
    "dafra= pd.DataFrame(dados)"
   ]
  },
  {
   "cell_type": "code",
   "execution_count": 6,
   "id": "07125308",
   "metadata": {},
   "outputs": [
    {
     "name": "stdout",
     "output_type": "stream",
     "text": [
      "         Nome  Idade     Cidade  Registro Departamento   Formação\n",
      "0    Anderson     24     Santos     32123           RH  Graduação\n",
      "1     Beatriz     36    Atibaia     45828           PD   Mestrado\n",
      "2       Bruno     45  Guarulhos     34985           RH  Graduação\n",
      "3   Cristiano     56    Atibaia     13457          ADM    Técnico\n",
      "4      Daniel     29     Santos     98439          ADM  Graduação\n",
      "5     Douglas     20  Guarulhos     99348           RH    Técnico\n",
      "6       Elena     38  Guarulhos     45019          ADM  Graduação\n",
      "7    Fabricio     47    Atibaia     24894           PD  Graduação\n",
      "8     Gabriel     23  Guarulhos     32948           PD    Técnico\n",
      "9     Janaina     56  Guarulhos     13480          ADM  Graduação\n",
      "10       Luiz     32    Atibaia     22884           PD  Graduação\n",
      "11     Marcos     22  Guarulhos     56821          ADM  Graduação\n",
      "12      Nadia     36     Santos     65938           PD  Graduação\n",
      "13    Oswaldo     68  Guarulhos     12956           RH   Mestrado\n",
      "14   Patricia     22  Guarulhos     75439          ADM  Graduação\n",
      "15    Ricardo     38     Santos     45392           PD   Mestrado\n"
     ]
    }
   ],
   "source": [
    "print(dafra)"
   ]
  },
  {
   "cell_type": "code",
   "execution_count": 14,
   "id": "b8dc0393",
   "metadata": {},
   "outputs": [],
   "source": [
    "cidade = dafra.groupby('Cidade').groups"
   ]
  },
  {
   "cell_type": "code",
   "execution_count": 15,
   "id": "62acab4a",
   "metadata": {},
   "outputs": [
    {
     "name": "stdout",
     "output_type": "stream",
     "text": [
      "{'Atibaia': [1, 3, 7, 10], 'Guarulhos': [2, 5, 6, 8, 9, 11, 13, 14], 'Santos': [0, 4, 12, 15]}\n"
     ]
    }
   ],
   "source": [
    "print(cidade)"
   ]
  },
  {
   "cell_type": "code",
   "execution_count": 18,
   "id": "e5e36a5e",
   "metadata": {},
   "outputs": [
    {
     "name": "stdout",
     "output_type": "stream",
     "text": [
      "{'Graduação': [0, 2, 4, 6, 7, 9, 10, 11, 12, 14], 'Mestrado': [1, 13, 15], 'Técnico': [3, 5, 8]}\n"
     ]
    }
   ],
   "source": [
    "formacao = dafra.groupby('Formação').groups\n",
    "print(formacao)"
   ]
  },
  {
   "cell_type": "code",
   "execution_count": 19,
   "id": "64333c02",
   "metadata": {},
   "outputs": [
    {
     "name": "stdout",
     "output_type": "stream",
     "text": [
      "{'ADM': [3, 4, 6, 9, 11, 14], 'PD': [1, 7, 8, 10, 12, 15], 'RH': [0, 2, 5, 13]}\n"
     ]
    }
   ],
   "source": [
    "departamento = dafra.groupby('Departamento').groups\n",
    "print(departamento)"
   ]
  },
  {
   "cell_type": "code",
   "execution_count": 23,
   "id": "d2d8481c",
   "metadata": {},
   "outputs": [
    {
     "name": "stdout",
     "output_type": "stream",
     "text": [
      "{('Atibaia', 'ADM'): [3], ('Atibaia', 'PD'): [1, 7, 10], ('Guarulhos', 'ADM'): [6, 9, 11, 14], ('Guarulhos', 'PD'): [8], ('Guarulhos', 'RH'): [2, 5, 13], ('Santos', 'ADM'): [4], ('Santos', 'PD'): [12, 15], ('Santos', 'RH'): [0]}\n"
     ]
    }
   ],
   "source": [
    "cid_dep = dafra.groupby(['Cidade','Departamento']).groups\n",
    "print(cid_dep)"
   ]
  },
  {
   "cell_type": "code",
   "execution_count": 32,
   "id": "add1e4d1",
   "metadata": {},
   "outputs": [
    {
     "name": "stdout",
     "output_type": "stream",
     "text": [
      "{('ADM', 'Graduação'): [4, 6, 9, 11, 14], ('ADM', 'Técnico'): [3], ('PD', 'Graduação'): [7, 10, 12], ('PD', 'Mestrado'): [1, 15], ('PD', 'Técnico'): [8], ('RH', 'Graduação'): [0, 2], ('RH', 'Mestrado'): [13], ('RH', 'Técnico'): [5]}\n"
     ]
    }
   ],
   "source": [
    "dep_for = dafra.groupby(['Departamento', 'Formação']).groups\n",
    "print(dep_for)"
   ]
  },
  {
   "cell_type": "markdown",
   "id": "d26b56cb",
   "metadata": {},
   "source": [
    "diferença entre a média e o valor de cada subgrupo"
   ]
  },
  {
   "cell_type": "code",
   "execution_count": 30,
   "id": "12fd2f65",
   "metadata": {},
   "outputs": [],
   "source": [
    "sub = lambda sub : sub.mean()-sub"
   ]
  },
  {
   "cell_type": "code",
   "execution_count": 41,
   "id": "5772bed8",
   "metadata": {},
   "outputs": [
    {
     "data": {
      "text/html": [
       "<div>\n",
       "<style scoped>\n",
       "    .dataframe tbody tr th:only-of-type {\n",
       "        vertical-align: middle;\n",
       "    }\n",
       "\n",
       "    .dataframe tbody tr th {\n",
       "        vertical-align: top;\n",
       "    }\n",
       "\n",
       "    .dataframe thead th {\n",
       "        text-align: right;\n",
       "    }\n",
       "</style>\n",
       "<table border=\"1\" class=\"dataframe\">\n",
       "  <thead>\n",
       "    <tr style=\"text-align: right;\">\n",
       "      <th></th>\n",
       "      <th>Idade</th>\n",
       "      <th>Registro</th>\n",
       "    </tr>\n",
       "  </thead>\n",
       "  <tbody>\n",
       "    <tr>\n",
       "      <th>0</th>\n",
       "      <td>7.75</td>\n",
       "      <td>28350.00</td>\n",
       "    </tr>\n",
       "    <tr>\n",
       "      <th>1</th>\n",
       "      <td>6.75</td>\n",
       "      <td>-19062.25</td>\n",
       "    </tr>\n",
       "    <tr>\n",
       "      <th>2</th>\n",
       "      <td>-8.25</td>\n",
       "      <td>11389.50</td>\n",
       "    </tr>\n",
       "    <tr>\n",
       "      <th>3</th>\n",
       "      <td>-13.25</td>\n",
       "      <td>13308.75</td>\n",
       "    </tr>\n",
       "    <tr>\n",
       "      <th>4</th>\n",
       "      <td>2.75</td>\n",
       "      <td>-37966.00</td>\n",
       "    </tr>\n",
       "    <tr>\n",
       "      <th>5</th>\n",
       "      <td>16.75</td>\n",
       "      <td>-52973.50</td>\n",
       "    </tr>\n",
       "    <tr>\n",
       "      <th>6</th>\n",
       "      <td>-1.25</td>\n",
       "      <td>1355.50</td>\n",
       "    </tr>\n",
       "    <tr>\n",
       "      <th>7</th>\n",
       "      <td>-4.25</td>\n",
       "      <td>1871.75</td>\n",
       "    </tr>\n",
       "    <tr>\n",
       "      <th>8</th>\n",
       "      <td>13.75</td>\n",
       "      <td>13426.50</td>\n",
       "    </tr>\n",
       "    <tr>\n",
       "      <th>9</th>\n",
       "      <td>-19.25</td>\n",
       "      <td>32894.50</td>\n",
       "    </tr>\n",
       "    <tr>\n",
       "      <th>10</th>\n",
       "      <td>10.75</td>\n",
       "      <td>3881.75</td>\n",
       "    </tr>\n",
       "    <tr>\n",
       "      <th>11</th>\n",
       "      <td>14.75</td>\n",
       "      <td>-10446.50</td>\n",
       "    </tr>\n",
       "    <tr>\n",
       "      <th>12</th>\n",
       "      <td>-4.25</td>\n",
       "      <td>-5465.00</td>\n",
       "    </tr>\n",
       "    <tr>\n",
       "      <th>13</th>\n",
       "      <td>-31.25</td>\n",
       "      <td>33418.50</td>\n",
       "    </tr>\n",
       "    <tr>\n",
       "      <th>14</th>\n",
       "      <td>14.75</td>\n",
       "      <td>-29064.50</td>\n",
       "    </tr>\n",
       "    <tr>\n",
       "      <th>15</th>\n",
       "      <td>-6.25</td>\n",
       "      <td>15081.00</td>\n",
       "    </tr>\n",
       "  </tbody>\n",
       "</table>\n",
       "</div>"
      ],
      "text/plain": [
       "    Idade  Registro\n",
       "0    7.75  28350.00\n",
       "1    6.75 -19062.25\n",
       "2   -8.25  11389.50\n",
       "3  -13.25  13308.75\n",
       "4    2.75 -37966.00\n",
       "5   16.75 -52973.50\n",
       "6   -1.25   1355.50\n",
       "7   -4.25   1871.75\n",
       "8   13.75  13426.50\n",
       "9  -19.25  32894.50\n",
       "10  10.75   3881.75\n",
       "11  14.75 -10446.50\n",
       "12  -4.25  -5465.00\n",
       "13 -31.25  33418.50\n",
       "14  14.75 -29064.50\n",
       "15  -6.25  15081.00"
      ]
     },
     "execution_count": 41,
     "metadata": {},
     "output_type": "execute_result"
    }
   ],
   "source": [
    "cid_2 = dafra.groupby('Cidade')[['Idade', 'Registro']]\n",
    "cid_2.transform(sub)"
   ]
  },
  {
   "cell_type": "code",
   "execution_count": 44,
   "id": "86c11196",
   "metadata": {},
   "outputs": [
    {
     "data": {
      "text/html": [
       "<div>\n",
       "<style scoped>\n",
       "    .dataframe tbody tr th:only-of-type {\n",
       "        vertical-align: middle;\n",
       "    }\n",
       "\n",
       "    .dataframe tbody tr th {\n",
       "        vertical-align: top;\n",
       "    }\n",
       "\n",
       "    .dataframe thead th {\n",
       "        text-align: right;\n",
       "    }\n",
       "</style>\n",
       "<table border=\"1\" class=\"dataframe\">\n",
       "  <thead>\n",
       "    <tr style=\"text-align: right;\">\n",
       "      <th></th>\n",
       "      <th>Idade</th>\n",
       "      <th>Registro</th>\n",
       "    </tr>\n",
       "  </thead>\n",
       "  <tbody>\n",
       "    <tr>\n",
       "      <th>0</th>\n",
       "      <td>11.100000</td>\n",
       "      <td>14879.200000</td>\n",
       "    </tr>\n",
       "    <tr>\n",
       "      <th>1</th>\n",
       "      <td>11.333333</td>\n",
       "      <td>-11102.666667</td>\n",
       "    </tr>\n",
       "    <tr>\n",
       "      <th>2</th>\n",
       "      <td>-9.900000</td>\n",
       "      <td>12017.200000</td>\n",
       "    </tr>\n",
       "    <tr>\n",
       "      <th>3</th>\n",
       "      <td>-23.000000</td>\n",
       "      <td>35127.333333</td>\n",
       "    </tr>\n",
       "    <tr>\n",
       "      <th>4</th>\n",
       "      <td>6.100000</td>\n",
       "      <td>-51436.800000</td>\n",
       "    </tr>\n",
       "    <tr>\n",
       "      <th>5</th>\n",
       "      <td>13.000000</td>\n",
       "      <td>-50763.666667</td>\n",
       "    </tr>\n",
       "    <tr>\n",
       "      <th>6</th>\n",
       "      <td>-2.900000</td>\n",
       "      <td>1983.200000</td>\n",
       "    </tr>\n",
       "    <tr>\n",
       "      <th>7</th>\n",
       "      <td>-11.900000</td>\n",
       "      <td>22108.200000</td>\n",
       "    </tr>\n",
       "    <tr>\n",
       "      <th>8</th>\n",
       "      <td>10.000000</td>\n",
       "      <td>15636.333333</td>\n",
       "    </tr>\n",
       "    <tr>\n",
       "      <th>9</th>\n",
       "      <td>-20.900000</td>\n",
       "      <td>33522.200000</td>\n",
       "    </tr>\n",
       "    <tr>\n",
       "      <th>10</th>\n",
       "      <td>3.100000</td>\n",
       "      <td>24118.200000</td>\n",
       "    </tr>\n",
       "    <tr>\n",
       "      <th>11</th>\n",
       "      <td>13.100000</td>\n",
       "      <td>-9818.800000</td>\n",
       "    </tr>\n",
       "    <tr>\n",
       "      <th>12</th>\n",
       "      <td>-0.900000</td>\n",
       "      <td>-18935.800000</td>\n",
       "    </tr>\n",
       "    <tr>\n",
       "      <th>13</th>\n",
       "      <td>-20.666667</td>\n",
       "      <td>21769.333333</td>\n",
       "    </tr>\n",
       "    <tr>\n",
       "      <th>14</th>\n",
       "      <td>13.100000</td>\n",
       "      <td>-28436.800000</td>\n",
       "    </tr>\n",
       "    <tr>\n",
       "      <th>15</th>\n",
       "      <td>9.333333</td>\n",
       "      <td>-10666.666667</td>\n",
       "    </tr>\n",
       "  </tbody>\n",
       "</table>\n",
       "</div>"
      ],
      "text/plain": [
       "        Idade      Registro\n",
       "0   11.100000  14879.200000\n",
       "1   11.333333 -11102.666667\n",
       "2   -9.900000  12017.200000\n",
       "3  -23.000000  35127.333333\n",
       "4    6.100000 -51436.800000\n",
       "5   13.000000 -50763.666667\n",
       "6   -2.900000   1983.200000\n",
       "7  -11.900000  22108.200000\n",
       "8   10.000000  15636.333333\n",
       "9  -20.900000  33522.200000\n",
       "10   3.100000  24118.200000\n",
       "11  13.100000  -9818.800000\n",
       "12  -0.900000 -18935.800000\n",
       "13 -20.666667  21769.333333\n",
       "14  13.100000 -28436.800000\n",
       "15   9.333333 -10666.666667"
      ]
     },
     "execution_count": 44,
     "metadata": {},
     "output_type": "execute_result"
    }
   ],
   "source": [
    "form_2 = dafra.groupby('Formação')[['Idade', 'Registro']]\n",
    "form_2.transform(sub)"
   ]
  },
  {
   "cell_type": "code",
   "execution_count": 47,
   "id": "a31a5b0a",
   "metadata": {},
   "outputs": [
    {
     "data": {
      "text/html": [
       "<div>\n",
       "<style scoped>\n",
       "    .dataframe tbody tr th:only-of-type {\n",
       "        vertical-align: middle;\n",
       "    }\n",
       "\n",
       "    .dataframe tbody tr th {\n",
       "        vertical-align: top;\n",
       "    }\n",
       "\n",
       "    .dataframe thead th {\n",
       "        text-align: right;\n",
       "    }\n",
       "</style>\n",
       "<table border=\"1\" class=\"dataframe\">\n",
       "  <thead>\n",
       "    <tr style=\"text-align: right;\">\n",
       "      <th></th>\n",
       "      <th>Idade</th>\n",
       "      <th>Registro</th>\n",
       "    </tr>\n",
       "  </thead>\n",
       "  <tbody>\n",
       "    <tr>\n",
       "      <th>0</th>\n",
       "      <td>15.250000</td>\n",
       "      <td>12730.000000</td>\n",
       "    </tr>\n",
       "    <tr>\n",
       "      <th>1</th>\n",
       "      <td>-0.666667</td>\n",
       "      <td>-6180.666667</td>\n",
       "    </tr>\n",
       "    <tr>\n",
       "      <th>2</th>\n",
       "      <td>-5.750000</td>\n",
       "      <td>9868.000000</td>\n",
       "    </tr>\n",
       "    <tr>\n",
       "      <th>3</th>\n",
       "      <td>-18.833333</td>\n",
       "      <td>36985.500000</td>\n",
       "    </tr>\n",
       "    <tr>\n",
       "      <th>4</th>\n",
       "      <td>8.166667</td>\n",
       "      <td>-47996.500000</td>\n",
       "    </tr>\n",
       "    <tr>\n",
       "      <th>5</th>\n",
       "      <td>19.250000</td>\n",
       "      <td>-54495.000000</td>\n",
       "    </tr>\n",
       "    <tr>\n",
       "      <th>6</th>\n",
       "      <td>-0.833333</td>\n",
       "      <td>5423.500000</td>\n",
       "    </tr>\n",
       "    <tr>\n",
       "      <th>7</th>\n",
       "      <td>-11.666667</td>\n",
       "      <td>14753.333333</td>\n",
       "    </tr>\n",
       "    <tr>\n",
       "      <th>8</th>\n",
       "      <td>12.333333</td>\n",
       "      <td>6699.333333</td>\n",
       "    </tr>\n",
       "    <tr>\n",
       "      <th>9</th>\n",
       "      <td>-18.833333</td>\n",
       "      <td>36962.500000</td>\n",
       "    </tr>\n",
       "    <tr>\n",
       "      <th>10</th>\n",
       "      <td>3.333333</td>\n",
       "      <td>16763.333333</td>\n",
       "    </tr>\n",
       "    <tr>\n",
       "      <th>11</th>\n",
       "      <td>15.166667</td>\n",
       "      <td>-6378.500000</td>\n",
       "    </tr>\n",
       "    <tr>\n",
       "      <th>12</th>\n",
       "      <td>-0.666667</td>\n",
       "      <td>-26290.666667</td>\n",
       "    </tr>\n",
       "    <tr>\n",
       "      <th>13</th>\n",
       "      <td>-28.750000</td>\n",
       "      <td>31897.000000</td>\n",
       "    </tr>\n",
       "    <tr>\n",
       "      <th>14</th>\n",
       "      <td>15.166667</td>\n",
       "      <td>-24996.500000</td>\n",
       "    </tr>\n",
       "    <tr>\n",
       "      <th>15</th>\n",
       "      <td>-2.666667</td>\n",
       "      <td>-5744.666667</td>\n",
       "    </tr>\n",
       "  </tbody>\n",
       "</table>\n",
       "</div>"
      ],
      "text/plain": [
       "        Idade      Registro\n",
       "0   15.250000  12730.000000\n",
       "1   -0.666667  -6180.666667\n",
       "2   -5.750000   9868.000000\n",
       "3  -18.833333  36985.500000\n",
       "4    8.166667 -47996.500000\n",
       "5   19.250000 -54495.000000\n",
       "6   -0.833333   5423.500000\n",
       "7  -11.666667  14753.333333\n",
       "8   12.333333   6699.333333\n",
       "9  -18.833333  36962.500000\n",
       "10   3.333333  16763.333333\n",
       "11  15.166667  -6378.500000\n",
       "12  -0.666667 -26290.666667\n",
       "13 -28.750000  31897.000000\n",
       "14  15.166667 -24996.500000\n",
       "15  -2.666667  -5744.666667"
      ]
     },
     "execution_count": 47,
     "metadata": {},
     "output_type": "execute_result"
    }
   ],
   "source": [
    "dep_2 = dafra.groupby('Departamento')[['Idade', 'Registro']]\n",
    "dep_2.transform(sub)"
   ]
  },
  {
   "cell_type": "code",
   "execution_count": 51,
   "id": "1d51be6c",
   "metadata": {},
   "outputs": [
    {
     "data": {
      "text/plain": [
       "0      0.000000\n",
       "1      2.333333\n",
       "2     -0.666667\n",
       "3      0.000000\n",
       "4      0.000000\n",
       "5     24.333333\n",
       "6     -3.500000\n",
       "7     -8.666667\n",
       "8      0.000000\n",
       "9    -21.500000\n",
       "10     6.333333\n",
       "11    12.500000\n",
       "12     1.000000\n",
       "13   -23.666667\n",
       "14    12.500000\n",
       "15    -1.000000\n",
       "Name: Idade, dtype: float64"
      ]
     },
     "execution_count": 51,
     "metadata": {},
     "output_type": "execute_result"
    }
   ],
   "source": [
    "cid_dep_2 = dafra.groupby(['Cidade', 'Departamento'])['Idade']\n",
    "cid_dep_2.transform(sub)"
   ]
  },
  {
   "cell_type": "code",
   "execution_count": 56,
   "id": "e13387d6",
   "metadata": {},
   "outputs": [
    {
     "data": {
      "text/plain": [
       "0     10.500000\n",
       "1      1.000000\n",
       "2    -10.500000\n",
       "3      0.000000\n",
       "4      4.400000\n",
       "5      0.000000\n",
       "6     -4.600000\n",
       "7     -8.666667\n",
       "8      0.000000\n",
       "9    -22.600000\n",
       "10     6.333333\n",
       "11    11.400000\n",
       "12     2.333333\n",
       "13     0.000000\n",
       "14    11.400000\n",
       "15    -1.000000\n",
       "Name: Idade, dtype: float64"
      ]
     },
     "execution_count": 56,
     "metadata": {},
     "output_type": "execute_result"
    }
   ],
   "source": [
    "dep_form_2 = dafra.groupby(['Departamento', 'Formação'])['Idade']\n",
    "dep_form_2.transform(sub)"
   ]
  },
  {
   "cell_type": "code",
   "execution_count": null,
   "id": "da651f48",
   "metadata": {},
   "outputs": [],
   "source": []
  }
 ],
 "metadata": {
  "kernelspec": {
   "display_name": "Python 3 (ipykernel)",
   "language": "python",
   "name": "python3"
  },
  "language_info": {
   "codemirror_mode": {
    "name": "ipython",
    "version": 3
   },
   "file_extension": ".py",
   "mimetype": "text/x-python",
   "name": "python",
   "nbconvert_exporter": "python",
   "pygments_lexer": "ipython3",
   "version": "3.10.12"
  }
 },
 "nbformat": 4,
 "nbformat_minor": 5
}
